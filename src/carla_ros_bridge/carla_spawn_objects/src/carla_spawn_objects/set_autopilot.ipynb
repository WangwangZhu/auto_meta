{
 "cells": [
  {
   "cell_type": "code",
   "execution_count": 2,
   "metadata": {},
   "outputs": [
    {
     "name": "stdout",
     "output_type": "stream",
     "text": [
      "11\n"
     ]
    },
    {
     "name": "stderr",
     "output_type": "stream",
     "text": [
      "WARNING: Version mismatch detected: You are trying to connect to a simulator that might be incompatible with this API \n",
      "WARNING: Client API version     = 0.9.13 \n",
      "WARNING: Simulator API version  = 0.9.13-2-g0c41f167c-dirty \n"
     ]
    }
   ],
   "source": [
    "import  random\n",
    "import glob\n",
    "import os\n",
    "import sys\n",
    "try:\n",
    "    path = glob.glob('/opt/carla-simulator/PythonAPI/carla/dist/carla-0.9.13-py3.7-linux-x86_64.egg')[0]\n",
    "    sys.path.append(path)\n",
    "except IndexError:\n",
    "    pass\n",
    "import carla\n",
    "# print(carla.__file__)\n",
    "\n",
    "client = carla.Client('localhost', 2000)\n",
    "# print(client.get_available_maps())\n",
    "\n",
    "world = client.get_world()\n",
    "# world = client.load_world('Town06')\n",
    "print(11)\n"
   ]
  },
  {
   "cell_type": "code",
   "execution_count": 3,
   "metadata": {},
   "outputs": [
    {
     "name": "stdout",
     "output_type": "stream",
     "text": [
      "vehicle.mercedes.coupe\n",
      "vehicle.tesla.model3\n",
      "vehicle.tesla.model3\n",
      "vehicle.tesla.model3\n"
     ]
    },
    {
     "name": "stderr",
     "output_type": "stream",
     "text": [
      "WARNING: Traffic sign 1023 overlaps a driving lane. Moving out of the road... \n",
      "WARNING: Failed to find suitable place for signal. \n",
      "WARNING: Traffic sign 1022 overlaps a driving lane. Moving out of the road... \n",
      "WARNING: Failed to find suitable place for signal. \n",
      "WARNING: Traffic sign 1021 overlaps a driving lane. Moving out of the road... \n",
      "WARNING: Failed to find suitable place for signal. \n",
      "WARNING: Traffic sign 1019 overlaps a driving lane. Moving out of the road... \n",
      "WARNING: Failed to find suitable place for signal. \n",
      "WARNING: Traffic sign 1017 overlaps a driving lane. Moving out of the road... \n",
      "WARNING: Failed to find suitable place for signal. \n",
      "WARNING: Traffic sign 1020 overlaps a driving lane. Moving out of the road... \n",
      "WARNING: Failed to find suitable place for signal. \n",
      "WARNING: Traffic sign 1016 overlaps a driving lane. Moving out of the road... \n",
      "WARNING: Failed to find suitable place for signal. \n",
      "WARNING: Traffic sign 1018 overlaps a driving lane. Moving out of the road... \n",
      "WARNING: Failed to find suitable place for signal. \n",
      "WARNING: Traffic sign 1023 overlaps a driving lane. Moving out of the road... \n",
      "WARNING: Failed to find suitable place for signal. \n",
      "WARNING: Traffic sign 1022 overlaps a driving lane. Moving out of the road... \n",
      "WARNING: Failed to find suitable place for signal. \n",
      "WARNING: Traffic sign 1021 overlaps a driving lane. Moving out of the road... \n",
      "WARNING: Failed to find suitable place for signal. \n",
      "WARNING: Traffic sign 1019 overlaps a driving lane. Moving out of the road... \n",
      "WARNING: Failed to find suitable place for signal. \n",
      "WARNING: Traffic sign 1017 overlaps a driving lane. Moving out of the road... \n",
      "WARNING: Failed to find suitable place for signal. \n",
      "WARNING: Traffic sign 1020 overlaps a driving lane. Moving out of the road... \n",
      "WARNING: Failed to find suitable place for signal. \n",
      "WARNING: Traffic sign 1016 overlaps a driving lane. Moving out of the road... \n",
      "WARNING: Failed to find suitable place for signal. \n",
      "WARNING: Traffic sign 1018 overlaps a driving lane. Moving out of the road... \n",
      "WARNING: Failed to find suitable place for signal. \n",
      "WARNING: No InMemoryMap cache found. Setting up local map. This may take a while... \n"
     ]
    },
    {
     "ename": "",
     "evalue": "",
     "output_type": "error",
     "traceback": [
      "\u001b[1;31mThe Kernel crashed while executing code in the the current cell or a previous cell. Please review the code in the cell(s) to identify a possible cause of the failure. Click <a href='https://aka.ms/vscodeJupyterKernelCrash'>here</a> for more info. View Jupyter <a href='command:jupyter.viewOutput'>log</a> for further details."
     ]
    }
   ],
   "source": [
    "traffic_manager = client.get_trafficmanager(8000)\n",
    "traffic_manager.set_random_device_seed(12)\n",
    "# # tm里的每一辆车都要和前车保持至少3m的距离来保持安全\n",
    "# traffic_manager.set_global_distance_to_leading_vehicle(3.0)\n",
    "# # tm里面的每一辆车都是混合物理模式\n",
    "# # traffic_manager.set_hybrid_physics_mode(False)\n",
    "# # tm里面每一辆车都是默认速度的80%\n",
    "traffic_manager.global_percentage_speed_difference(66)\n",
    "\n",
    "# settings = world.get_settings()\n",
    "# traffic_manager.set_synchronous_mode(True)\n",
    "# if not settings.synchronous_mode:\n",
    "#     synchronous_master = True\n",
    "#     settings.synchronous_mode = True\n",
    "#         # 20fps\n",
    "#     settings.fixed_delta_seconds = 0.05\n",
    "#     world.apply_settings(settings)\n",
    "\n",
    "for vehicle in world.get_actors().filter('*vehicle*'):\n",
    "    print(vehicle.type_id)\n",
    "    if vehicle.type_id != \"vehicle.mercedes.coupe\":\n",
    "        traffic_manager.auto_lane_change(vehicle, False)\n",
    "        traffic_manager.set_route(vehicle, ['Straight', 'Straight','Straight','Straight','Straight','Straight'])\n",
    "        # traffic_manager.set_desired_speed(vehicle, 10.0)\n",
    "        vehicle.set_autopilot(True)"
   ]
  },
  {
   "cell_type": "code",
   "execution_count": null,
   "metadata": {},
   "outputs": [],
   "source": [
    "# Retrieve the spectator object\n",
    "spectator = world.get_spectator()\n",
    "\n",
    "# Get the location and rotation of the spectator through its transform\n",
    "transform = spectator.get_transform()\n",
    "\n",
    "location = transform.location\n",
    "rotation = transform.rotation\n",
    "\n",
    "# Set the spectator with an empty transform\n",
    "spectator.set_transform(carla.Transform())\n",
    "# This will set the spectator at the origin of the map, with 0 degrees\n",
    "# pitch, yaw and roll - a good way to orient yourself in the map"
   ]
  },
  {
   "cell_type": "code",
   "execution_count": null,
   "metadata": {},
   "outputs": [],
   "source": [
    "# Get the blueprint library and filter for the vehicle blueprints\n",
    "vehicle_blueprints = world.get_blueprint_library().filter('*vehicle*')\n",
    "print(vehicle_blueprints)\n"
   ]
  },
  {
   "cell_type": "code",
   "execution_count": null,
   "metadata": {},
   "outputs": [],
   "source": [
    "# Get the map's spawn points\n",
    "spawn_points = world.get_map().get_spawn_points()\n",
    "# print(spawn_points)\n",
    "# Spawn 50 vehicles randomly distributed throughout the map \n",
    "# for each spawn point, we choose a random vehicle from the blueprint library\n",
    "for i in range(0,20):\n",
    "    world.try_spawn_actor(random.choice(vehicle_blueprints), random.choice(spawn_points))\n",
    "    \n",
    "ego_vehicle = world.spawn_actor(random.choice(vehicle_blueprints), random.choice(spawn_points))"
   ]
  },
  {
   "cell_type": "code",
   "execution_count": null,
   "metadata": {},
   "outputs": [],
   "source": [
    "# Create a transform to place the camera on top of the vehicle\n",
    "camera_init_trans = carla.Transform(carla.Location(z=1.5))\n",
    "\n",
    "# We create the camera through a blueprint that defines its properties\n",
    "camera_bp = world.get_blueprint_library().find('sensor.camera.rgb')\n",
    "\n",
    "# We spawn the camera and attach it to our ego vehicle\n",
    "camera = world.spawn_actor(camera_bp, camera_init_trans, attach_to=ego_vehicle)"
   ]
  },
  {
   "cell_type": "code",
   "execution_count": null,
   "metadata": {},
   "outputs": [],
   "source": [
    "# Create a transform to place the camera on top of the vehicle\n",
    "camera_init_trans = carla.Transform(carla.Location(z=1.5))\n",
    "\n",
    "# We create the camera through a blueprint that defines its properties\n",
    "camera_bp = world.get_blueprint_library().find('sensor.camera.rgb')\n",
    "\n",
    "# We spawn the camera and attach it to our ego vehicle\n",
    "camera = world.spawn_actor(camera_bp, camera_init_trans, attach_to=ego_vehicle)"
   ]
  },
  {
   "cell_type": "code",
   "execution_count": null,
   "metadata": {},
   "outputs": [],
   "source": [
    "# Start camera with PyGame callback\n",
    "camera.listen(lambda image: image.save_to_disk('out/%06d.png' % image.frame))\n"
   ]
  },
  {
   "cell_type": "code",
   "execution_count": null,
   "metadata": {},
   "outputs": [],
   "source": [
    "2.79*3.6\n"
   ]
  }
 ],
 "metadata": {
  "kernelspec": {
   "display_name": "Python 3.8.10 64-bit",
   "language": "python",
   "name": "python3"
  },
  "language_info": {
   "codemirror_mode": {
    "name": "ipython",
    "version": 3
   },
   "file_extension": ".py",
   "mimetype": "text/x-python",
   "name": "python",
   "nbconvert_exporter": "python",
   "pygments_lexer": "ipython3",
   "version": "3.8.10"
  },
  "orig_nbformat": 4,
  "vscode": {
   "interpreter": {
    "hash": "916dbcbb3f70747c44a77c7bcd40155683ae19c65e1c03b4aa3499c5328201f1"
   }
  }
 },
 "nbformat": 4,
 "nbformat_minor": 2
}
